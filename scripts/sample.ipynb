{
 "cells": [
  {
   "cell_type": "code",
   "execution_count": 1,
   "metadata": {},
   "outputs": [
    {
     "ename": "ParseError",
     "evalue": "Bad magic bytes at the start of the file.",
     "output_type": "error",
     "traceback": [
      "\u001b[0;31m---------------------------------------------------------------------------\u001b[0m",
      "\u001b[0;31mParseError\u001b[0m                                Traceback (most recent call last)",
      "Input \u001b[0;32mIn [1]\u001b[0m, in \u001b[0;36m<cell line: 10>\u001b[0;34m()\u001b[0m\n\u001b[1;32m      7\u001b[0m \u001b[38;5;66;03m#set current working directory\u001b[39;00m\n\u001b[1;32m      8\u001b[0m os\u001b[38;5;241m.\u001b[39mchdir(\u001b[38;5;124m'\u001b[39m\u001b[38;5;124m/home/haresh/PycharmProjects/spot-vrl/\u001b[39m\u001b[38;5;124m'\u001b[39m)\n\u001b[0;32m---> 10\u001b[0m cement_data \u001b[38;5;241m=\u001b[39m \u001b[43mSynchronizedData\u001b[49m\u001b[43m(\u001b[49m\u001b[43mfilename\u001b[49m\u001b[38;5;241;43m=\u001b[39;49m\u001b[38;5;124;43m'\u001b[39;49m\u001b[38;5;124;43mdata/train/cement/2022-03-14-17-36-52.pkl\u001b[39;49m\u001b[38;5;124;43m'\u001b[39;49m\u001b[43m)\u001b[49m\n\u001b[1;32m     11\u001b[0m cement_imu_info \u001b[38;5;241m=\u001b[39m np\u001b[38;5;241m.\u001b[39masarray(cement_data\u001b[38;5;241m.\u001b[39mimu_container\u001b[38;5;241m.\u001b[39mall_sensor_data)\n\u001b[1;32m     13\u001b[0m linear_velocity_cement \u001b[38;5;241m=\u001b[39m cement_imu_info[:, \u001b[38;5;241m37\u001b[39m:\u001b[38;5;241m40\u001b[39m]\n",
      "File \u001b[0;32m~/PycharmProjects/spot-vrl/spot_vrl/data/synced_data.py:55\u001b[0m, in \u001b[0;36mSynchronizedData.__init__\u001b[0;34m(self, filename, imu_history_sec)\u001b[0m\n\u001b[1;32m     49\u001b[0m \u001b[38;5;28mself\u001b[39m\u001b[38;5;241m.\u001b[39mdata: List[Datum] \u001b[38;5;241m=\u001b[39m []\n\u001b[1;32m     50\u001b[0m \u001b[38;5;124;03m\"\"\"\u001b[39;00m\n\u001b[1;32m     51\u001b[0m \u001b[38;5;124;03mList of points along the trajectory ordered by timestamp. Each point\u001b[39;00m\n\u001b[1;32m     52\u001b[0m \u001b[38;5;124;03malong the trajectory corresponds to an image capture.\u001b[39;00m\n\u001b[1;32m     53\u001b[0m \u001b[38;5;124;03m\"\"\"\u001b[39;00m\n\u001b[0;32m---> 55\u001b[0m imu_container \u001b[38;5;241m=\u001b[39m \u001b[43mImuData\u001b[49m\u001b[43m(\u001b[49m\u001b[43mfilename\u001b[49m\u001b[43m)\u001b[49m\n\u001b[1;32m     56\u001b[0m \u001b[38;5;28mself\u001b[39m\u001b[38;5;241m.\u001b[39mimu_container \u001b[38;5;241m=\u001b[39m imu_container\n\u001b[1;32m     57\u001b[0m image_container \u001b[38;5;241m=\u001b[39m ImageData(filename, lazy\u001b[38;5;241m=\u001b[39m\u001b[38;5;28;01mTrue\u001b[39;00m)\n",
      "File \u001b[0;32m~/PycharmProjects/spot-vrl/spot_vrl/data/sensor_data.py:159\u001b[0m, in \u001b[0;36mImuData.__init__\u001b[0;34m(self, filename)\u001b[0m\n\u001b[1;32m    156\u001b[0m \u001b[38;5;28mself\u001b[39m\u001b[38;5;241m.\u001b[39m_data: List[\u001b[38;5;124m\"\u001b[39m\u001b[38;5;124mImuData.Datum\u001b[39m\u001b[38;5;124m\"\u001b[39m] \u001b[38;5;241m=\u001b[39m []\n\u001b[1;32m    158\u001b[0m \u001b[38;5;28mself\u001b[39m\u001b[38;5;241m.\u001b[39mpath: Path \u001b[38;5;241m=\u001b[39m Path(filename)\n\u001b[0;32m--> 159\u001b[0m data_reader \u001b[38;5;241m=\u001b[39m \u001b[43mDataReader\u001b[49m\u001b[43m(\u001b[49m\u001b[38;5;28;43;01mNone\u001b[39;49;00m\u001b[43m,\u001b[49m\u001b[43m \u001b[49m\u001b[38;5;28;43mstr\u001b[39;49m\u001b[43m(\u001b[49m\u001b[43mfilename\u001b[49m\u001b[43m)\u001b[49m\u001b[43m)\u001b[49m\n\u001b[1;32m    160\u001b[0m proto_reader \u001b[38;5;241m=\u001b[39m ProtobufReader(data_reader)\n\u001b[1;32m    162\u001b[0m series_index: \u001b[38;5;28mint\u001b[39m \u001b[38;5;241m=\u001b[39m proto_reader\u001b[38;5;241m.\u001b[39mseries_index(\u001b[38;5;124m\"\u001b[39m\u001b[38;5;124mbosdyn.api.RobotStateResponse\u001b[39m\u001b[38;5;124m\"\u001b[39m)\n",
      "File \u001b[0;32m~/miniconda3/envs/spot-vrl/lib/python3.8/site-packages/bosdyn/bddf/data_reader.py:29\u001b[0m, in \u001b[0;36mDataReader.__init__\u001b[0;34m(self, infile, filename)\u001b[0m\n\u001b[1;32m     21\u001b[0m \u001b[38;5;28;01mdef\u001b[39;00m \u001b[38;5;21m__init__\u001b[39m(\u001b[38;5;28mself\u001b[39m, infile\u001b[38;5;241m=\u001b[39m\u001b[38;5;28;01mNone\u001b[39;00m, filename\u001b[38;5;241m=\u001b[39m\u001b[38;5;28;01mNone\u001b[39;00m):\n\u001b[1;32m     22\u001b[0m     \u001b[38;5;124;03m\"\"\"\u001b[39;00m\n\u001b[1;32m     23\u001b[0m \u001b[38;5;124;03m    At least one of the following arguments must be specified.\u001b[39;00m\n\u001b[1;32m     24\u001b[0m \n\u001b[0;32m   (...)\u001b[0m\n\u001b[1;32m     27\u001b[0m \u001b[38;5;124;03m     filename:    path of input file, if applicable.\u001b[39;00m\n\u001b[1;32m     28\u001b[0m \u001b[38;5;124;03m    \"\"\"\u001b[39;00m\n\u001b[0;32m---> 29\u001b[0m     \u001b[38;5;28;43msuper\u001b[39;49m\u001b[43m(\u001b[49m\u001b[43mDataReader\u001b[49m\u001b[43m,\u001b[49m\u001b[43m \u001b[49m\u001b[38;5;28;43mself\u001b[39;49m\u001b[43m)\u001b[49m\u001b[38;5;241;43m.\u001b[39;49m\u001b[38;5;21;43m__init__\u001b[39;49m\u001b[43m(\u001b[49m\u001b[43minfile\u001b[49m\u001b[43m,\u001b[49m\u001b[43m \u001b[49m\u001b[43mfilename\u001b[49m\u001b[43m)\u001b[49m\n\u001b[1;32m     30\u001b[0m     \u001b[38;5;28mself\u001b[39m\u001b[38;5;241m.\u001b[39m_series_index_to_descriptor \u001b[38;5;241m=\u001b[39m {}\n\u001b[1;32m     31\u001b[0m     \u001b[38;5;28mself\u001b[39m\u001b[38;5;241m.\u001b[39m_series_index_to_block_index \u001b[38;5;241m=\u001b[39m {}  \u001b[38;5;66;03m# {series_index -> SeriesBlockIndex}\u001b[39;00m\n",
      "File \u001b[0;32m~/miniconda3/envs/spot-vrl/lib/python3.8/site-packages/bosdyn/bddf/base_data_reader.py:41\u001b[0m, in \u001b[0;36mBaseDataReader.__init__\u001b[0;34m(self, infile, filename)\u001b[0m\n\u001b[1;32m     39\u001b[0m \u001b[38;5;28mself\u001b[39m\u001b[38;5;241m.\u001b[39m_eof \u001b[38;5;241m=\u001b[39m \u001b[38;5;28;01mFalse\u001b[39;00m\n\u001b[1;32m     40\u001b[0m \u001b[38;5;28mself\u001b[39m\u001b[38;5;241m.\u001b[39m_file_index \u001b[38;5;241m=\u001b[39m \u001b[38;5;28;01mNone\u001b[39;00m\n\u001b[0;32m---> 41\u001b[0m \u001b[38;5;28;43mself\u001b[39;49m\u001b[38;5;241;43m.\u001b[39;49m\u001b[43m_read_header\u001b[49m\u001b[43m(\u001b[49m\u001b[43m)\u001b[49m\n",
      "File \u001b[0;32m~/miniconda3/envs/spot-vrl/lib/python3.8/site-packages/bosdyn/bddf/base_data_reader.py:114\u001b[0m, in \u001b[0;36mBaseDataReader._read_header\u001b[0;34m(self)\u001b[0m\n\u001b[1;32m    112\u001b[0m magic \u001b[38;5;241m=\u001b[39m \u001b[38;5;28mself\u001b[39m\u001b[38;5;241m.\u001b[39m_read(\u001b[38;5;28mlen\u001b[39m(MAGIC))\n\u001b[1;32m    113\u001b[0m \u001b[38;5;28;01mif\u001b[39;00m magic \u001b[38;5;241m!=\u001b[39m MAGIC:\n\u001b[0;32m--> 114\u001b[0m     \u001b[38;5;28;01mraise\u001b[39;00m ParseError(\u001b[38;5;124m\"\u001b[39m\u001b[38;5;124mBad magic bytes at the start of the file.\u001b[39m\u001b[38;5;124m\"\u001b[39m)\n\u001b[1;32m    115\u001b[0m \u001b[38;5;28mself\u001b[39m\u001b[38;5;241m.\u001b[39m_file_descriptor \u001b[38;5;241m=\u001b[39m \u001b[38;5;28mself\u001b[39m\u001b[38;5;241m.\u001b[39m_read_desc_block(\u001b[38;5;124m\"\u001b[39m\u001b[38;5;124mfile_descriptor\u001b[39m\u001b[38;5;124m\"\u001b[39m)\n\u001b[1;32m    116\u001b[0m \u001b[38;5;28;01mif\u001b[39;00m (\u001b[38;5;28mself\u001b[39m\u001b[38;5;241m.\u001b[39m_file_descriptor\u001b[38;5;241m.\u001b[39mversion\u001b[38;5;241m.\u001b[39mmajor_version \u001b[38;5;241m!=\u001b[39m \u001b[38;5;241m1\u001b[39m \u001b[38;5;129;01mor\u001b[39;00m\n\u001b[1;32m    117\u001b[0m         \u001b[38;5;28mself\u001b[39m\u001b[38;5;241m.\u001b[39m_file_descriptor\u001b[38;5;241m.\u001b[39mversion\u001b[38;5;241m.\u001b[39mminor_version \u001b[38;5;241m!=\u001b[39m \u001b[38;5;241m0\u001b[39m \u001b[38;5;129;01mor\u001b[39;00m\n\u001b[1;32m    118\u001b[0m         \u001b[38;5;28mself\u001b[39m\u001b[38;5;241m.\u001b[39m_file_descriptor\u001b[38;5;241m.\u001b[39mversion\u001b[38;5;241m.\u001b[39mpatch_level \u001b[38;5;241m!=\u001b[39m \u001b[38;5;241m0\u001b[39m):\n",
      "\u001b[0;31mParseError\u001b[0m: Bad magic bytes at the start of the file."
     ]
    }
   ],
   "source": [
    "import numpy as np\n",
    "import matplotlib.pyplot as plt\n",
    "from spot_vrl.data.synced_data import SynchronizedData\n",
    "import os\n",
    "os.path.join('/home/haresh/PycharmProjects/spot-vrl/')\n",
    "\n",
    "#set current working directory\n",
    "os.chdir('/home/haresh/PycharmProjects/spot-vrl/')\n",
    "\n",
    "cement_data = SynchronizedData(filename='data/train/cement/2022-03-14-17-36-52.pkl')\n",
    "cement_imu_info = np.asarray(cement_data.imu_container.all_sensor_data)\n",
    "\n",
    "linear_velocity_cement = cement_imu_info[:, 37:40]\n",
    "angular_velocity_grass = cement_imu_info[:, 40:43]\n",
    "\n",
    "# create 3x1 subplots\n",
    "fig, ax = plt.subplots(3, 1, sharex=True, figsize=(20, 10))\n",
    "ax[0].plot(linear_velocity_grass[100:200, 0])\n",
    "ax[1].plot(linear_velocity_grass[100:200, 1])\n",
    "ax[2].plot(linear_velocity_grass[100:200, 2])\n",
    "# show the plot in jupyter notebook\n",
    "plt.show()"
   ]
  },
  {
   "cell_type": "code",
   "execution_count": null,
   "metadata": {
    "pycharm": {
     "name": "#%%\n"
    }
   },
   "outputs": [],
   "source": [
    "grass_data = SynchronizedData(filename='data/train/cement/2022-03-14-17-36-52.bddf')\n",
    "grass_imu_info = np.asarray(grass_data.imu_container.all_sensor_data)\n",
    "\n",
    "linear_velocity_cement = cement_imu_info[:, 37:40]\n",
    "angular_velocity_cement = cement_imu_info[:, 40:43]\n",
    "\n",
    "# create 3x1 subplots\n",
    "fig, ax = plt.subplots(3, 1, sharex=True, figsize=(20, 10))\n",
    "ax[0].plot(linear_velocity_cement[100:200, 0])\n",
    "ax[1].plot(linear_velocity_cement[100:200, 1])\n",
    "ax[2].plot(linear_velocity_cement[100:200, 2])\n",
    "# show the plot in jupyter notebook\n",
    "plt.show()"
   ]
  },
  {
   "cell_type": "code",
   "execution_count": null,
   "metadata": {
    "pycharm": {
     "name": "#%%\n"
    }
   },
   "outputs": [],
   "source": []
  }
 ],
 "metadata": {
  "kernelspec": {
   "display_name": "Python 3",
   "language": "python",
   "name": "python3"
  },
  "language_info": {
   "codemirror_mode": {
    "name": "ipython",
    "version": 3
   },
   "file_extension": ".py",
   "mimetype": "text/x-python",
   "name": "python",
   "nbconvert_exporter": "python",
   "pygments_lexer": "ipython3",
   "version": "3.8.13"
  }
 },
 "nbformat": 4,
 "nbformat_minor": 1
}
